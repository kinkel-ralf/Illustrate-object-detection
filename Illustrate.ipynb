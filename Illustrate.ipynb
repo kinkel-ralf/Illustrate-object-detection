{
 "cells": [
  {
   "cell_type": "code",
   "execution_count": null,
   "id": "73fdea25",
   "metadata": {},
   "outputs": [],
   "source": [
    "def illustrate(show_gt = False, seq_name='MOT16-02', show_x_images=3):\n",
    "    data_dir = os.path.join(root_dir, 'data/MOT16')\n",
    "    sequences = MOT16Sequences(seq_name, data_dir, load_seg=True) # Get a coffee.\n",
    "\n",
    "    for seq in sequences:\n",
    "        for i, frame in enumerate(seq):\n",
    "            img = frame['img']\n",
    "            \n",
    "            dpi = 96\n",
    "            fig, ax = plt.subplots(1, dpi=dpi)\n",
    "\n",
    "            img = img.mul(255).permute(1, 2, 0).byte().numpy()\n",
    "            width, height, _ = img.shape\n",
    "              \n",
    "            ax.imshow(img, cmap='gray')\n",
    "            fig.set_size_inches(width / dpi, height / dpi)\n",
    "\n",
    "            if show_gt:\n",
    "              if 'gt' in frame:\n",
    "                  gt = frame['gt']\n",
    "                  for gt_id, box in gt.items():\n",
    "                      rect = plt.Rectangle(\n",
    "                        (box[0], box[1]),\n",
    "                        box[2] - box[0],\n",
    "                        box[3] - box[1],\n",
    "                        fill=False,\n",
    "                        linewidth=1.0)\n",
    "                      ax.add_patch(rect)\n",
    "            else:\n",
    "              img = frame[\"img\"][None,:,:,:]\n",
    "              detected = obj_detect(img.to(device))[0]\n",
    "              boxes, scores = detected[\"boxes\"],detected[\"scores\"]\n",
    "              for box in boxes:\n",
    "                      rect = plt.Rectangle(\n",
    "                        (box[0], box[1]),\n",
    "                        box[2] - box[0],\n",
    "                        box[3] - box[1],\n",
    "                        fill=False,\n",
    "                        linewidth=1.0)\n",
    "                      ax.add_patch(rect)\n",
    "\n",
    "            plt.axis('off')\n",
    "            plt.show()\n",
    "            if i==show_x_images:\n",
    "              break"
   ]
  }
 ],
 "metadata": {
  "kernelspec": {
   "display_name": "Python 3 (ipykernel)",
   "language": "python",
   "name": "python3"
  },
  "language_info": {
   "codemirror_mode": {
    "name": "ipython",
    "version": 3
   },
   "file_extension": ".py",
   "mimetype": "text/x-python",
   "name": "python",
   "nbconvert_exporter": "python",
   "pygments_lexer": "ipython3",
   "version": "3.7.11"
  }
 },
 "nbformat": 4,
 "nbformat_minor": 5
}
